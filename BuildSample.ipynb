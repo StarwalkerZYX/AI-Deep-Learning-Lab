from IPython import get_ipython

#%% [markdown]
# 分别扫描T1文件夹和T2文件夹，找到同名对应文件，拼成T1T2（左右并列）联合图像。
#